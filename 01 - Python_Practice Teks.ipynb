{
 "cells": [
  {
   "cell_type": "raw",
   "id": "d0bae36a",
   "metadata": {},
   "source": []
  },
  {
   "cell_type": "markdown",
   "id": "01089694",
   "metadata": {},
   "source": [
    "# What is Python ? \n",
    "\n",
    "--  Python is an interpreted,object-oriented,high-level programming language with dynamic semantics. It is easy         learn,readable,modular and supports rapid application development and scripting.\n",
    "\n",
    "\n",
    "--  Python is an interpreted and object-oriented programming language commonly used for web development, data analysis, artificial intelligence, and more. It features a clean, beginner-friendly, and readable syntax. \n",
    "\n",
    "\n",
    "-- \n",
    "\n",
    "\n",
    "# Why Python ? \n",
    "\n",
    "\n",
    "-- It works on different platforms like windows,Mac,Linuc etc\n",
    "-- it has a simple syntax similar to the English language.\n",
    "-- Strong Support for Data Analysis and Scientific Computing\n",
    "\n",
    "Flexibility\n"
   ]
  },
  {
   "cell_type": "markdown",
   "id": "6b9228d6",
   "metadata": {},
   "source": [
    "# History Of Python \n",
    "\n",
    "Python was created in 1980s by Guido van Rossum. During his research at the National Research Institute for Mathematics and Computer Science in the Netherlands, he created Python – a super easy programming language in terms of reading and usage. The first ever version was released in the year 1991 which had only a few built-in data types and basic functionality.\n",
    "\n",
    "Later, when it gained popularity among scientists for numerical computations and data analysis, in 1994, Python 1.0 was released with extra features like map, lambda, and filter functions. After that adding new functionalities and releasing newer versions of Python came into fashion. \n",
    " - Python 1.5 released in 1997\n",
    " - Python 2.0 released in 2000\n",
    " - Python 3.0 in 2008 brought newer functionalities\n",
    "\n",
    "###  The latest version of python , Python 3.13.2 was released in 2025\n",
    "\n",
    "Newer functionalities being added to Python makes it more beneficial for developers and improved its performance. In recent years, Python has gained a lot of popularity and is a highly demanding programming language. It has spread its demand in various fields which includes machine learning, artificial intelligence, data analysis, web development, and many more giving you a high-paying job."
   ]
  },
  {
   "cell_type": "markdown",
   "id": "d3d8d163",
   "metadata": {},
   "source": [
    "# What is Comments ? \n",
    "Comments can be used to explain Python code. \n",
    "Comments can be used to make the code more readable.\n",
    " note : python ignores comments while executing the code"
   ]
  },
  {
   "cell_type": "code",
   "execution_count": 2,
   "id": "57710116",
   "metadata": {},
   "outputs": [
    {
     "name": "stdout",
     "output_type": "stream",
     "text": [
      "789\n"
     ]
    }
   ],
   "source": [
    "#Example\n",
    "# declaring a variable\n",
    "teks = 789\n",
    "# printing the variable\n",
    "print(teks)"
   ]
  },
  {
   "cell_type": "markdown",
   "id": "81b56175",
   "metadata": {},
   "source": [
    "# Keywords\n",
    "\n",
    "Python has a set of keywords that are reserved words that cannot be used as variable names , function names , or any other identifiers \n",
    "\n",
    "and         - a logical operator\n",
    "as          - to create an alias\n",
    "assert      - for debugging\n",
    "break       - to break out of a loop\n",
    "class       - to define a class\n",
    "continue    - to continue to the next iteration of a loop\n",
    "def         - to define a function\n",
    "del         - to delete an object\n",
    "elif        - used in contional statements , same as else if\n",
    "else        - used in conditional statements\n",
    "except      - used with exceptions , what to do when an exception occurs\n",
    "False       - Boolean value , result of comparison operations\n",
    "finally     - used with exceptions , a block of code that will be executed no                 matter if there is an exception or not\n",
    "for         - to create a for loop\n",
    "from        - to import specific parts of a module\n",
    "global      - to declare a global variable\n",
    "if          - to make a conditional statement\n",
    "import      - to import a module\n",
    "in          - to check if a value is present in a list , tuple ,etc\n",
    "is          - to test if two variables are equal\n",
    "lambda      - to create an anonymous function\n",
    "none        - represents a null value\n",
    "nonlocal    - to declare a non-local variable\n",
    "not         - a logical operator\n",
    "or          - a logical operator\n",
    "pass        - a null statement , a statement that will do nothing\n",
    "raise       - to raise an exception\n",
    "return      - to exit a function and return a value\n",
    "True        - Boolean value , result of comparison operations\n",
    "try         - to make a try .. except statement\n",
    "while       - to create a while loop\n",
    "with        - used to simply exception handling\n",
    "yield       - to return a list of values from a generator"
   ]
  },
  {
   "cell_type": "markdown",
   "id": "ce8e8ab3",
   "metadata": {},
   "source": [
    "# What are Variables and its Rules\n",
    "\n",
    "Variabless are containers for storing data values.\n",
    "\n",
    "Python has no command for declaring a variable\n"
   ]
  },
  {
   "cell_type": "code",
   "execution_count": 1,
   "id": "2b76fd87",
   "metadata": {},
   "outputs": [
    {
     "name": "stdout",
     "output_type": "stream",
     "text": [
      "89\n",
      "98\n"
     ]
    }
   ],
   "source": [
    "# Example \n",
    "# creating a variable\n",
    "\n",
    "x = 89\n",
    "y = 98\n",
    "print(x)\n",
    "print(y)"
   ]
  },
  {
   "cell_type": "markdown",
   "id": "3c8e6379",
   "metadata": {},
   "source": [
    "# Rules of Variables \n",
    "\n",
    "- cant't start with a numbers or special characters , except uderscore _\n",
    "- Case Sensitive nature\n",
    "- Spaces are not allowed\n"
   ]
  },
  {
   "cell_type": "code",
   "execution_count": 2,
   "id": "7004ccda",
   "metadata": {},
   "outputs": [
    {
     "name": "stdout",
     "output_type": "stream",
     "text": [
      "23\n"
     ]
    }
   ],
   "source": [
    "# valid examples\n",
    "\n",
    "age = 23\n",
    "print(age)"
   ]
  },
  {
   "cell_type": "code",
   "execution_count": 3,
   "id": "3df68b55",
   "metadata": {},
   "outputs": [
    {
     "name": "stdout",
     "output_type": "stream",
     "text": [
      "9966687702\n"
     ]
    }
   ],
   "source": [
    "phone_number = 9966687702\n",
    "print(phone_number)"
   ]
  },
  {
   "cell_type": "code",
   "execution_count": 4,
   "id": "619c2ac3",
   "metadata": {},
   "outputs": [
    {
     "name": "stdout",
     "output_type": "stream",
     "text": [
      "28\n",
      "28\n"
     ]
    }
   ],
   "source": [
    "x = 28\n",
    "y = x\n",
    "print(x)\n",
    "print(y)"
   ]
  },
  {
   "cell_type": "code",
   "execution_count": 5,
   "id": "6c7fad08",
   "metadata": {},
   "outputs": [
    {
     "name": "stdout",
     "output_type": "stream",
     "text": [
      "7778\n",
      "7778 7778\n",
      "7778 7778 7778\n"
     ]
    }
   ],
   "source": [
    "x = y = z =7778\n",
    "print(x)\n",
    "print(x,y)\n",
    "print(x,y,z)"
   ]
  },
  {
   "cell_type": "code",
   "execution_count": 6,
   "id": "a54c0739",
   "metadata": {},
   "outputs": [
    {
     "name": "stdout",
     "output_type": "stream",
     "text": [
      "6\n"
     ]
    }
   ],
   "source": [
    "x85757 = 6\n",
    "print(x85757)"
   ]
  },
  {
   "cell_type": "code",
   "execution_count": 9,
   "id": "05d4d4b0",
   "metadata": {},
   "outputs": [
    {
     "name": "stdout",
     "output_type": "stream",
     "text": [
      "98\n"
     ]
    }
   ],
   "source": [
    "age_8 = 98\n",
    "print(age_8)"
   ]
  },
  {
   "cell_type": "code",
   "execution_count": 10,
   "id": "69a434c2",
   "metadata": {},
   "outputs": [
    {
     "name": "stdout",
     "output_type": "stream",
     "text": [
      "6565\n"
     ]
    }
   ],
   "source": [
    "x_1stnumber = 6565\n",
    "y_2nd_number = 97977\n",
    "print(x_1stnumber)"
   ]
  },
  {
   "cell_type": "code",
   "execution_count": 11,
   "id": "4b569143",
   "metadata": {},
   "outputs": [
    {
     "ename": "SyntaxError",
     "evalue": "invalid syntax. Maybe you meant '==' or ':=' instead of '='? (3229787817.py, line 3)",
     "output_type": "error",
     "traceback": [
      "\u001b[1;36m  Cell \u001b[1;32mIn[11], line 3\u001b[1;36m\u001b[0m\n\u001b[1;33m    @gana = 99\u001b[0m\n\u001b[1;37m     ^\u001b[0m\n\u001b[1;31mSyntaxError\u001b[0m\u001b[1;31m:\u001b[0m invalid syntax. Maybe you meant '==' or ':=' instead of '='?\n"
     ]
    }
   ],
   "source": [
    "# invalid examples\n",
    "\n",
    "@gana = 99\n",
    "print(@gana)"
   ]
  },
  {
   "cell_type": "code",
   "execution_count": 12,
   "id": "effe22c2",
   "metadata": {},
   "outputs": [
    {
     "ename": "SyntaxError",
     "evalue": "invalid decimal literal (3065589613.py, line 1)",
     "output_type": "error",
     "traceback": [
      "\u001b[1;36m  Cell \u001b[1;32mIn[12], line 1\u001b[1;36m\u001b[0m\n\u001b[1;33m    89num = 6767\u001b[0m\n\u001b[1;37m     ^\u001b[0m\n\u001b[1;31mSyntaxError\u001b[0m\u001b[1;31m:\u001b[0m invalid decimal literal\n"
     ]
    }
   ],
   "source": [
    "89num = 6767\n",
    "print(89num)"
   ]
  },
  {
   "cell_type": "code",
   "execution_count": 13,
   "id": "3d4d5b3a",
   "metadata": {},
   "outputs": [
    {
     "name": "stdout",
     "output_type": "stream",
     "text": [
      "23\n"
     ]
    }
   ],
   "source": [
    "Age = 67\n",
    "print(age)\n"
   ]
  },
  {
   "cell_type": "code",
   "execution_count": 14,
   "id": "10386f00",
   "metadata": {},
   "outputs": [
    {
     "ename": "SyntaxError",
     "evalue": "cannot assign to expression here. Maybe you meant '==' instead of '='? (839256581.py, line 1)",
     "output_type": "error",
     "traceback": [
      "\u001b[1;36m  Cell \u001b[1;32mIn[14], line 1\u001b[1;36m\u001b[0m\n\u001b[1;33m    num@8 = 99\u001b[0m\n\u001b[1;37m    ^\u001b[0m\n\u001b[1;31mSyntaxError\u001b[0m\u001b[1;31m:\u001b[0m cannot assign to expression here. Maybe you meant '==' instead of '='?\n"
     ]
    }
   ],
   "source": [
    "num@8 = 99\n",
    "print(num@8)"
   ]
  },
  {
   "cell_type": "code",
   "execution_count": 15,
   "id": "96620b34",
   "metadata": {},
   "outputs": [
    {
     "ename": "SyntaxError",
     "evalue": "invalid syntax (598512653.py, line 1)",
     "output_type": "error",
     "traceback": [
      "\u001b[1;36m  Cell \u001b[1;32mIn[15], line 1\u001b[1;36m\u001b[0m\n\u001b[1;33m    $teks = 78787\u001b[0m\n\u001b[1;37m    ^\u001b[0m\n\u001b[1;31mSyntaxError\u001b[0m\u001b[1;31m:\u001b[0m invalid syntax\n"
     ]
    }
   ],
   "source": [
    "$teks = 78787\n",
    "print($teks)"
   ]
  },
  {
   "cell_type": "code",
   "execution_count": 16,
   "id": "2c541372",
   "metadata": {},
   "outputs": [
    {
     "ename": "SyntaxError",
     "evalue": "cannot assign to expression here. Maybe you meant '==' instead of '='? (2802517480.py, line 1)",
     "output_type": "error",
     "traceback": [
      "\u001b[1;36m  Cell \u001b[1;32mIn[16], line 1\u001b[1;36m\u001b[0m\n\u001b[1;33m    user-id = 8977868\u001b[0m\n\u001b[1;37m    ^\u001b[0m\n\u001b[1;31mSyntaxError\u001b[0m\u001b[1;31m:\u001b[0m cannot assign to expression here. Maybe you meant '==' instead of '='?\n"
     ]
    }
   ],
   "source": [
    "user-id = 8977868\n",
    "print(user-id)"
   ]
  },
  {
   "cell_type": "code",
   "execution_count": null,
   "id": "742a7885",
   "metadata": {},
   "outputs": [],
   "source": []
  }
 ],
 "metadata": {
  "kernelspec": {
   "display_name": "Python 3 (ipykernel)",
   "language": "python",
   "name": "python3"
  },
  "language_info": {
   "codemirror_mode": {
    "name": "ipython",
    "version": 3
   },
   "file_extension": ".py",
   "mimetype": "text/x-python",
   "name": "python",
   "nbconvert_exporter": "python",
   "pygments_lexer": "ipython3",
   "version": "3.11.4"
  }
 },
 "nbformat": 4,
 "nbformat_minor": 5
}
