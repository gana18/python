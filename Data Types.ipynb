{
 "cells": [
  {
   "cell_type": "markdown",
   "id": "69637ce0",
   "metadata": {},
   "source": [
    "# Explain about Data Types\n",
    "\n",
    "Python Data types are the classification or categorization of data items. It represents the kind of value that tells what operations can be performed on a particular data. \n",
    "It is classified into two data types..\n",
    "    - Primitive Data Type (basic data types)\n",
    "    - Non-Primitive Data Type (advanced data types)\n",
    "    \n",
    "  Primitive Data types \n",
    "  \n",
    "  Basic data type which can be instanciated and used with the predefined operations of a programming language.\n",
    "   Data Types are -\n",
    "             int       - All whole numbers (positive, negative and zero) without any fractional part come under Integers.\n",
    "                          -3, -2, -1, 0, 1, 2, 3,...\n",
    "             float     - Any number with a decimal point\n",
    "                          24.3, 345.210, -321.86\n",
    "             complex   -  A complex number is represented as a pair of real numbers, where the first part is the real part and                             the second part is the imaginary part\n",
    "                          76 + 767j     where 76 is real and 767j is imaginary\n",
    "             boolean   - True and False are considered as Boolean values.\n",
    "             char      - set of valid characters acceptable by a programming language in scripting.\n",
    "             \n",
    "  Non Primitive Data types\n",
    "  \n",
    "  The non-primitive data types are List, Tuples, Dictionary, Sets \n",
    "  \n",
    "  "
   ]
  },
  {
   "cell_type": "code",
   "execution_count": 2,
   "id": "a5b2215a",
   "metadata": {},
   "outputs": [
    {
     "name": "stdout",
     "output_type": "stream",
     "text": [
      "886\n",
      "21\n",
      "65\n",
      "78 9 65\n",
      "886\n",
      "87666\n",
      "78\n"
     ]
    }
   ],
   "source": [
    "# int Examples  \n",
    "x = 88\n",
    "age =21\n",
    "a=b=c=677\n",
    "a,b,c = 78,9,65\n",
    "x=int(\"886\")\n",
    "abc = 87666\n",
    "teks = 78\n",
    "print(x)\n",
    "print(age)\n",
    "print(c)\n",
    "print(a,b,c)\n",
    "print(x)\n",
    "print(abc)\n",
    "print(teks)\n",
    "\n"
   ]
  },
  {
   "cell_type": "code",
   "execution_count": 4,
   "id": "a8d3c3d5",
   "metadata": {},
   "outputs": [
    {
     "name": "stdout",
     "output_type": "stream",
     "text": [
      "-0.6\n",
      "999.087\n",
      "99.0\n",
      "546.8\n",
      "57686.0\n"
     ]
    }
   ],
   "source": [
    "# float examples\n",
    "x = -.6\n",
    "y = 999.087\n",
    "teks = 99.0\n",
    "a,b,c = 675.75 ,686.7 ,546.8\n",
    "t = float(57686)\n",
    "print(x)\n",
    "print(y)\n",
    "print(teks)\n",
    "print(c)\n",
    "print(t)\n"
   ]
  },
  {
   "cell_type": "code",
   "execution_count": 5,
   "id": "ef51f21e",
   "metadata": {},
   "outputs": [
    {
     "name": "stdout",
     "output_type": "stream",
     "text": [
      "(2+3j)\n",
      "(4+875j)\n",
      "18j\n",
      "(8.8+65j)\n",
      "(-0-79j)\n"
     ]
    }
   ],
   "source": [
    "# complex examples\n",
    "\n",
    "a = 2 + 3j\n",
    "t = complex(4,875)\n",
    "teks = 6 * 3j\n",
    "y = 8.8 + 65j\n",
    "z = -15.8 * 5j\n",
    "print(a)\n",
    "print(t)\n",
    "print(teks)\n",
    "print(y)\n",
    "print(z)"
   ]
  },
  {
   "cell_type": "code",
   "execution_count": 7,
   "id": "4caca653",
   "metadata": {},
   "outputs": [
    {
     "name": "stdout",
     "output_type": "stream",
     "text": [
      "False\n",
      "False\n",
      "True\n",
      "True\n",
      "False\n"
     ]
    }
   ],
   "source": [
    "# boolean examples\n",
    " \n",
    "print(2==3)\n",
    "print(576<86)\n",
    "print(10<=989)\n",
    "print(45>38)\n",
    "print(56>=78)"
   ]
  },
  {
   "cell_type": "markdown",
   "id": "3c1954a2",
   "metadata": {},
   "source": [
    "# Type Function \n",
    "\n",
    "\n",
    "The type() function returns the type of the specified object. type (object, bases, dict) required. \n",
    "\n",
    "\n"
   ]
  },
  {
   "cell_type": "code",
   "execution_count": null,
   "id": "2757ff8a",
   "metadata": {},
   "outputs": [],
   "source": [
    "# type function examples\n",
    "\n",
    "a = ('apple', 'banana', 'cherry')\n",
    "b = \"Hello World\"\n",
    "c = 33\n",
    "x=y=67.8\n",
    "print(type(a))\n",
    "print(type(b))\n",
    "print(type(c))\n",
    "print(type(y))"
   ]
  },
  {
   "cell_type": "code",
   "execution_count": null,
   "id": "c86088ea",
   "metadata": {},
   "outputs": [],
   "source": []
  }
 ],
 "metadata": {
  "kernelspec": {
   "display_name": "Python 3 (ipykernel)",
   "language": "python",
   "name": "python3"
  },
  "language_info": {
   "codemirror_mode": {
    "name": "ipython",
    "version": 3
   },
   "file_extension": ".py",
   "mimetype": "text/x-python",
   "name": "python",
   "nbconvert_exporter": "python",
   "pygments_lexer": "ipython3",
   "version": "3.11.4"
  }
 },
 "nbformat": 4,
 "nbformat_minor": 5
}
